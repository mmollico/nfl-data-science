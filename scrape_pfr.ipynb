{
 "cells": [
  {
   "cell_type": "code",
   "execution_count": 5,
   "metadata": {},
   "outputs": [],
   "source": [
    "import pandas as pd \n",
    "import numpy as np \n",
    "import requests\n",
    "from bs4 import BeautifulSoup\n",
    "from selenium import webdriver\n",
    "from selenium.webdriver.common.keys import Keys\n",
    "from selenium.webdriver.chrome.options import Options"
   ]
  },
  {
   "cell_type": "code",
   "execution_count": 5,
   "metadata": {},
   "outputs": [],
   "source": [
    "# Following this tutorial: https://www.learndatasci.com/tutorials/ultimate-guide-web-scraping-w-python-requests-and-beautifulsoup/ "
   ]
  },
  {
   "cell_type": "code",
   "execution_count": 6,
   "metadata": {},
   "outputs": [],
   "source": [
    "# Scraping pro football reference 2020 Week 1 Scores\n",
    "url = 'https://www.pro-football-reference.com/years/2020/week_1.htm'\n",
    "r = requests.get(url)\n",
    "soup = BeautifulSoup(r.content, 'html.parser')"
   ]
  },
  {
   "cell_type": "code",
   "execution_count": 7,
   "metadata": {},
   "outputs": [
    {
     "output_type": "stream",
     "name": "stdout",
     "text": [
      "Kansas City Chiefs defeated Houston Texans by a score of 34 to 20.\n"
     ]
    }
   ],
   "source": [
    "rows = soup.select('tbody tr')\n",
    "\n",
    "# Get the winner and loser and score of the first game\n",
    "row = rows[1]\n",
    "loser_name = row.select_one('.loser a').text.strip()\n",
    "loser_score = row.select_one('.loser .right').text.strip()\n",
    "row = rows[2]\n",
    "winner_name = row.select_one('.winner a').text.strip()\n",
    "winner_score = row.select_one('.winner .right').text.strip()\n",
    "\n",
    "print(f\"{winner_name} defeated {loser_name} by a score of {winner_score} to {loser_score}.\")\n"
   ]
  },
  {
   "cell_type": "code",
   "execution_count": 12,
   "metadata": {},
   "outputs": [],
   "source": [
    "opts = Options()\n",
    "opts.headless = True\n",
    "PATH = 'C://Program Files (x86)/chromedriver.exe'\n",
    "\n",
    "driver = webdriver.Chrome(PATH, options=opts)"
   ]
  },
  {
   "cell_type": "code",
   "execution_count": 14,
   "metadata": {},
   "outputs": [],
   "source": [
    "week = 8\n",
    "year = 2020\n",
    "url = f'https://www.pro-football-reference.com/years/{year}/week_{week}.htm'\n",
    "driver.get(url)\n",
    "game_summaries = driver.find_element_by_xpath(\"//*[contains(@class, 'game_summaries')]\")"
   ]
  },
  {
   "cell_type": "code",
   "execution_count": 44,
   "metadata": {},
   "outputs": [
    {
     "output_type": "execute_result",
     "data": {
      "text/plain": [
       "            date                           away                      home  \\\n",
       "0   Oct 29, 2020       Atlanta Falcons 25 Final    Carolina Panthers 17     \n",
       "1    Nov 1, 2020  New England Patriots 21 Final        Buffalo Bills 24     \n",
       "2    Nov 1, 2020   Pittsburgh Steelers 28 Final     Baltimore Ravens 24     \n",
       "3    Nov 1, 2020      Los Angeles Rams 17 Final       Miami Dolphins 28     \n",
       "4    Nov 1, 2020          New York Jets 9 Final   Kansas City Chiefs 35     \n",
       "5    Nov 1, 2020     Minnesota Vikings 28 Final    Green Bay Packers 22     \n",
       "6    Nov 1, 2020    Indianapolis Colts 41 Final        Detroit Lions 21     \n",
       "7    Nov 1, 2020     Las Vegas Raiders 16 Final      Cleveland Browns 6     \n",
       "8    Nov 1, 2020      Tennessee Titans 20 Final   Cincinnati Bengals 31     \n",
       "9    Nov 1, 2020  Los Angeles Chargers 30 Final       Denver Broncos 31     \n",
       "10   Nov 1, 2020    New Orleans Saints 26 Final       Chicago Bears 23 OT   \n",
       "11   Nov 1, 2020   San Francisco 49ers 27 Final     Seattle Seahawks 37     \n",
       "12   Nov 1, 2020         Dallas Cowboys 9 Final  Philadelphia Eagles 23     \n",
       "13   Nov 2, 2020  Tampa Bay Buccaneers 25 Final      New York Giants 23     \n",
       "\n",
       "                    pass_yds                   rush_yds  \\\n",
       "0       PassYds Ryan-ATL 281       RushYds Davis-CAR 66   \n",
       "1     PassYds Newton-NWE 174     RushYds Harris-NWE 102   \n",
       "2    PassYds Jackson-BAL 208    RushYds Dobbins-BAL 113   \n",
       "3       PassYds Goff-LAR 355          RushYds 2 tied 47   \n",
       "4    PassYds Mahomes-KAN 416        RushYds Gore-NYJ 30   \n",
       "5    PassYds Rodgers-GNB 291       RushYds Cook-MIN 163   \n",
       "6   PassYds Stafford-DET 336     RushYds Wilkins-IND 89   \n",
       "7   PassYds Mayfield-CLE 122     RushYds Jacobs-LVR 129   \n",
       "8     PassYds Burrow-CIN 249      RushYds Henry-TEN 112   \n",
       "9    PassYds Herbert-LAC 278     RushYds Jackson-LAC 89   \n",
       "10     PassYds Brees-NOR 280  RushYds Montgomery-CHI 89   \n",
       "11    PassYds Wilson-SEA 261      RushYds Dallas-SEA 41   \n",
       "12   PassYds DiNucci-DAL 180       RushYds Scott-PHI 70   \n",
       "13     PassYds Brady-TAM 279   RushYds Fournette-TAM 52   \n",
       "\n",
       "                   rec_yds  \n",
       "0     RecYds Jones-ATL 137  \n",
       "1      RecYds Diggs-BUF 92  \n",
       "2     RecYds Snead-BAL 106  \n",
       "3      RecYds Kupp-LAR 110  \n",
       "4     RecYds Kelce-KAN 109  \n",
       "5     RecYds Tonyan-GNB 79  \n",
       "6      RecYds Hall-DET 113  \n",
       "7     RecYds Landry-CLE 52  \n",
       "8     RecYds Davis-TEN 128  \n",
       "9   RecYds Williams-LAC 99  \n",
       "10    RecYds Kamara-NOR 96  \n",
       "11  RecYds Metcalf-SEA 161  \n",
       "12   RecYds Fulgham-PHI 78  \n",
       "13   RecYds Shepard-NYG 74  "
      ],
      "text/html": "<div>\n<style scoped>\n    .dataframe tbody tr th:only-of-type {\n        vertical-align: middle;\n    }\n\n    .dataframe tbody tr th {\n        vertical-align: top;\n    }\n\n    .dataframe thead th {\n        text-align: right;\n    }\n</style>\n<table border=\"1\" class=\"dataframe\">\n  <thead>\n    <tr style=\"text-align: right;\">\n      <th></th>\n      <th>date</th>\n      <th>away</th>\n      <th>home</th>\n      <th>pass_yds</th>\n      <th>rush_yds</th>\n      <th>rec_yds</th>\n    </tr>\n  </thead>\n  <tbody>\n    <tr>\n      <th>0</th>\n      <td>Oct 29, 2020</td>\n      <td>Atlanta Falcons 25 Final</td>\n      <td>Carolina Panthers 17</td>\n      <td>PassYds Ryan-ATL 281</td>\n      <td>RushYds Davis-CAR 66</td>\n      <td>RecYds Jones-ATL 137</td>\n    </tr>\n    <tr>\n      <th>1</th>\n      <td>Nov 1, 2020</td>\n      <td>New England Patriots 21 Final</td>\n      <td>Buffalo Bills 24</td>\n      <td>PassYds Newton-NWE 174</td>\n      <td>RushYds Harris-NWE 102</td>\n      <td>RecYds Diggs-BUF 92</td>\n    </tr>\n    <tr>\n      <th>2</th>\n      <td>Nov 1, 2020</td>\n      <td>Pittsburgh Steelers 28 Final</td>\n      <td>Baltimore Ravens 24</td>\n      <td>PassYds Jackson-BAL 208</td>\n      <td>RushYds Dobbins-BAL 113</td>\n      <td>RecYds Snead-BAL 106</td>\n    </tr>\n    <tr>\n      <th>3</th>\n      <td>Nov 1, 2020</td>\n      <td>Los Angeles Rams 17 Final</td>\n      <td>Miami Dolphins 28</td>\n      <td>PassYds Goff-LAR 355</td>\n      <td>RushYds 2 tied 47</td>\n      <td>RecYds Kupp-LAR 110</td>\n    </tr>\n    <tr>\n      <th>4</th>\n      <td>Nov 1, 2020</td>\n      <td>New York Jets 9 Final</td>\n      <td>Kansas City Chiefs 35</td>\n      <td>PassYds Mahomes-KAN 416</td>\n      <td>RushYds Gore-NYJ 30</td>\n      <td>RecYds Kelce-KAN 109</td>\n    </tr>\n    <tr>\n      <th>5</th>\n      <td>Nov 1, 2020</td>\n      <td>Minnesota Vikings 28 Final</td>\n      <td>Green Bay Packers 22</td>\n      <td>PassYds Rodgers-GNB 291</td>\n      <td>RushYds Cook-MIN 163</td>\n      <td>RecYds Tonyan-GNB 79</td>\n    </tr>\n    <tr>\n      <th>6</th>\n      <td>Nov 1, 2020</td>\n      <td>Indianapolis Colts 41 Final</td>\n      <td>Detroit Lions 21</td>\n      <td>PassYds Stafford-DET 336</td>\n      <td>RushYds Wilkins-IND 89</td>\n      <td>RecYds Hall-DET 113</td>\n    </tr>\n    <tr>\n      <th>7</th>\n      <td>Nov 1, 2020</td>\n      <td>Las Vegas Raiders 16 Final</td>\n      <td>Cleveland Browns 6</td>\n      <td>PassYds Mayfield-CLE 122</td>\n      <td>RushYds Jacobs-LVR 129</td>\n      <td>RecYds Landry-CLE 52</td>\n    </tr>\n    <tr>\n      <th>8</th>\n      <td>Nov 1, 2020</td>\n      <td>Tennessee Titans 20 Final</td>\n      <td>Cincinnati Bengals 31</td>\n      <td>PassYds Burrow-CIN 249</td>\n      <td>RushYds Henry-TEN 112</td>\n      <td>RecYds Davis-TEN 128</td>\n    </tr>\n    <tr>\n      <th>9</th>\n      <td>Nov 1, 2020</td>\n      <td>Los Angeles Chargers 30 Final</td>\n      <td>Denver Broncos 31</td>\n      <td>PassYds Herbert-LAC 278</td>\n      <td>RushYds Jackson-LAC 89</td>\n      <td>RecYds Williams-LAC 99</td>\n    </tr>\n    <tr>\n      <th>10</th>\n      <td>Nov 1, 2020</td>\n      <td>New Orleans Saints 26 Final</td>\n      <td>Chicago Bears 23 OT</td>\n      <td>PassYds Brees-NOR 280</td>\n      <td>RushYds Montgomery-CHI 89</td>\n      <td>RecYds Kamara-NOR 96</td>\n    </tr>\n    <tr>\n      <th>11</th>\n      <td>Nov 1, 2020</td>\n      <td>San Francisco 49ers 27 Final</td>\n      <td>Seattle Seahawks 37</td>\n      <td>PassYds Wilson-SEA 261</td>\n      <td>RushYds Dallas-SEA 41</td>\n      <td>RecYds Metcalf-SEA 161</td>\n    </tr>\n    <tr>\n      <th>12</th>\n      <td>Nov 1, 2020</td>\n      <td>Dallas Cowboys 9 Final</td>\n      <td>Philadelphia Eagles 23</td>\n      <td>PassYds DiNucci-DAL 180</td>\n      <td>RushYds Scott-PHI 70</td>\n      <td>RecYds Fulgham-PHI 78</td>\n    </tr>\n    <tr>\n      <th>13</th>\n      <td>Nov 2, 2020</td>\n      <td>Tampa Bay Buccaneers 25 Final</td>\n      <td>New York Giants 23</td>\n      <td>PassYds Brady-TAM 279</td>\n      <td>RushYds Fournette-TAM 52</td>\n      <td>RecYds Shepard-NYG 74</td>\n    </tr>\n  </tbody>\n</table>\n</div>"
     },
     "metadata": {},
     "execution_count": 44
    }
   ],
   "source": [
    "col_names = ['date', 'away', 'home', 'pass_yds', 'rush_yds', 'rec_yds']\n",
    "df = pd.DataFrame(columns=col_names)\n",
    "\n",
    "scores = game_summaries.text.split('\\n')\n",
    "split = 6\n",
    "i = 0\n",
    "\n",
    "while i < len(scores):\n",
    "    df = df.append(pd.Series(scores[i:i + split], index=col_names), ignore_index=True)\n",
    "    i = i + split\n",
    "    \n",
    "df"
   ]
  }
 ],
 "metadata": {
  "kernelspec": {
   "name": "python374jvsc74a57bd0f5ea946bc9bc109957ad7e3d5796c791cb057b70046a1faab32322ed5179886f",
   "display_name": "Python 3.7.4 64-bit ('base': conda)"
  },
  "language_info": {
   "codemirror_mode": {
    "name": "ipython",
    "version": 3
   },
   "file_extension": ".py",
   "mimetype": "text/x-python",
   "name": "python",
   "nbconvert_exporter": "python",
   "pygments_lexer": "ipython3",
   "version": "3.7.4"
  }
 },
 "nbformat": 4,
 "nbformat_minor": 4
}