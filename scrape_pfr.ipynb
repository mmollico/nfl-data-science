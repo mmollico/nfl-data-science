{
 "cells": [
  {
   "cell_type": "code",
   "execution_count": 4,
   "metadata": {},
   "outputs": [],
   "source": [
    "import pandas as pd \n",
    "import numpy as np \n",
    "import requests\n",
    "from bs4 import BeautifulSoup"
   ]
  },
  {
   "cell_type": "code",
   "execution_count": 5,
   "metadata": {},
   "outputs": [],
   "source": [
    "# Following this tutorial: https://www.learndatasci.com/tutorials/ultimate-guide-web-scraping-w-python-requests-and-beautifulsoup/ "
   ]
  },
  {
   "cell_type": "code",
   "execution_count": 6,
   "metadata": {},
   "outputs": [],
   "source": [
    "# Scraping pro football reference 2020 Week 1 Scores\n",
    "url = 'https://www.pro-football-reference.com/years/2020/week_1.htm'\n",
    "r = requests.get(url)\n",
    "soup = BeautifulSoup(r.content, 'html.parser')"
   ]
  },
  {
   "cell_type": "code",
   "execution_count": 7,
   "metadata": {},
   "outputs": [
    {
     "output_type": "stream",
     "name": "stdout",
     "text": [
      "Kansas City Chiefs defeated Houston Texans by a score of 34 to 20.\n"
     ]
    }
   ],
   "source": [
    "rows = soup.select('tbody tr')\n",
    "\n",
    "# Get the winner and loser and score of the first game\n",
    "row = rows[1]\n",
    "loser_name = row.select_one('.loser a').text.strip()\n",
    "loser_score = row.select_one('.loser .right').text.strip()\n",
    "row = rows[2]\n",
    "winner_name = row.select_one('.winner a').text.strip()\n",
    "winner_score = row.select_one('.winner .right').text.strip()\n",
    "\n",
    "print(f\"{winner_name} defeated {loser_name} by a score of {winner_score} to {loser_score}.\")\n"
   ]
  }
 ],
 "metadata": {
  "kernelspec": {
   "name": "python374jvsc74a57bd0f5ea946bc9bc109957ad7e3d5796c791cb057b70046a1faab32322ed5179886f",
   "display_name": "Python 3.7.4 64-bit ('base': conda)"
  },
  "language_info": {
   "codemirror_mode": {
    "name": "ipython",
    "version": 3
   },
   "file_extension": ".py",
   "mimetype": "text/x-python",
   "name": "python",
   "nbconvert_exporter": "python",
   "pygments_lexer": "ipython3",
   "version": "3.7.4"
  }
 },
 "nbformat": 4,
 "nbformat_minor": 4
}