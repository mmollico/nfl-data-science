{
 "metadata": {
  "language_info": {
   "codemirror_mode": {
    "name": "ipython",
    "version": 3
   },
   "file_extension": ".py",
   "mimetype": "text/x-python",
   "name": "python",
   "nbconvert_exporter": "python",
   "pygments_lexer": "ipython3",
   "version": "3.7.4"
  },
  "orig_nbformat": 2,
  "kernelspec": {
   "name": "python374jvsc74a57bd0f5ea946bc9bc109957ad7e3d5796c791cb057b70046a1faab32322ed5179886f",
   "display_name": "Python 3.7.4 64-bit ('base': conda)"
  }
 },
 "nbformat": 4,
 "nbformat_minor": 2,
 "cells": [
  {
   "cell_type": "code",
   "execution_count": 145,
   "metadata": {},
   "outputs": [],
   "source": [
    "import pandas as pd \n",
    "import numpy as np \n",
    "import seaborn as sns\n",
    "from sklearn.model_selection import train_test_split\n",
    "from sklearn.preprocessing import StandardScaler\n",
    "from sklearn.linear_model import LogisticRegression\n",
    "from sklearn.metrics import classification_report, confusion_matrix"
   ]
  },
  {
   "cell_type": "code",
   "execution_count": 89,
   "metadata": {},
   "outputs": [
    {
     "output_type": "execute_result",
     "data": {
      "text/plain": [
       "   week  game_date       away_team_name  away_team_score  \\\n",
       "0     1  10-Sep-20       Houston Texans               20   \n",
       "1     1  13-Sep-20        New York Jets               17   \n",
       "2     1  13-Sep-20     Seattle Seahawks               38   \n",
       "3     1  13-Sep-20  Philadelphia Eagles               17   \n",
       "4     1  13-Sep-20     Cleveland Browns                6   \n",
       "\n",
       "             home_team_name  home_team_score  \n",
       "0        Kansas City Chiefs               34  \n",
       "1             Buffalo Bills               27  \n",
       "2           Atlanta Falcons               25  \n",
       "3  Washington Football Team               27  \n",
       "4          Baltimore Ravens               38  "
      ],
      "text/html": "<div>\n<style scoped>\n    .dataframe tbody tr th:only-of-type {\n        vertical-align: middle;\n    }\n\n    .dataframe tbody tr th {\n        vertical-align: top;\n    }\n\n    .dataframe thead th {\n        text-align: right;\n    }\n</style>\n<table border=\"1\" class=\"dataframe\">\n  <thead>\n    <tr style=\"text-align: right;\">\n      <th></th>\n      <th>week</th>\n      <th>game_date</th>\n      <th>away_team_name</th>\n      <th>away_team_score</th>\n      <th>home_team_name</th>\n      <th>home_team_score</th>\n    </tr>\n  </thead>\n  <tbody>\n    <tr>\n      <th>0</th>\n      <td>1</td>\n      <td>10-Sep-20</td>\n      <td>Houston Texans</td>\n      <td>20</td>\n      <td>Kansas City Chiefs</td>\n      <td>34</td>\n    </tr>\n    <tr>\n      <th>1</th>\n      <td>1</td>\n      <td>13-Sep-20</td>\n      <td>New York Jets</td>\n      <td>17</td>\n      <td>Buffalo Bills</td>\n      <td>27</td>\n    </tr>\n    <tr>\n      <th>2</th>\n      <td>1</td>\n      <td>13-Sep-20</td>\n      <td>Seattle Seahawks</td>\n      <td>38</td>\n      <td>Atlanta Falcons</td>\n      <td>25</td>\n    </tr>\n    <tr>\n      <th>3</th>\n      <td>1</td>\n      <td>13-Sep-20</td>\n      <td>Philadelphia Eagles</td>\n      <td>17</td>\n      <td>Washington Football Team</td>\n      <td>27</td>\n    </tr>\n    <tr>\n      <th>4</th>\n      <td>1</td>\n      <td>13-Sep-20</td>\n      <td>Cleveland Browns</td>\n      <td>6</td>\n      <td>Baltimore Ravens</td>\n      <td>38</td>\n    </tr>\n  </tbody>\n</table>\n</div>"
     },
     "metadata": {},
     "execution_count": 89
    }
   ],
   "source": [
    "nfl_scores = pd.read_csv('scores_2020.csv')\n",
    "nfl_scores.head()"
   ]
  },
  {
   "source": [
    "Let's start by splitting each game into individual events for the target team we are trying to predict a win outcome for vs. the opponent."
   ],
   "cell_type": "markdown",
   "metadata": {}
  },
  {
   "cell_type": "code",
   "execution_count": 95,
   "metadata": {},
   "outputs": [],
   "source": [
    "nfl_scores_1 = nfl_scores.rename(columns = {\n",
    "    'away_team_name' : 'team',\n",
    "    'home_team_name' : 'opponent',\n",
    "    'away_team_score' : 'team_score',\n",
    "    'home_team_score' : 'opponent_score'\n",
    "})\n",
    "\n",
    "nfl_scores_2 = nfl_scores.rename(columns = {\n",
    "    'away_team_name' : 'opponent',\n",
    "    'home_team_name' : 'team',\n",
    "    'away_team_score' : 'opponent_score',\n",
    "    'home_team_score' : 'team_score'\n",
    "})\n",
    "\n",
    "nfl_scores = pd.concat((nfl_scores_1, nfl_scores_2), axis = 0)\n",
    "nfl_scores = nfl_scores.drop(columns=['game_date'])\n"
   ]
  },
  {
   "cell_type": "code",
   "execution_count": 96,
   "metadata": {},
   "outputs": [],
   "source": [
    "# Calculate the game outcome, our eventual y predicted outcome\n",
    "nfl_scores['outcome'] = np.where(nfl_scores['team_score'] > nfl_scores['opponent_score'], 1, 0)"
   ]
  },
  {
   "source": [
    "Let's try to predict the Clevland Browns chance of winning on week 11."
   ],
   "cell_type": "markdown",
   "metadata": {}
  },
  {
   "cell_type": "code",
   "execution_count": 147,
   "metadata": {},
   "outputs": [
    {
     "output_type": "execute_result",
     "data": {
      "text/plain": [
       "      week  team_score  opponent_score  outcome  team_wins  \\\n",
       "0        1          20              34        0          8   \n",
       "1        1          17              27        0          0   \n",
       "2        1          38              25        1         24   \n",
       "3        1          17              27        0         12   \n",
       "4        1           6              38        0         24   \n",
       "...    ...         ...             ...      ...        ...   \n",
       "1269    10          23              16        1         24   \n",
       "1270    10          36              10        1         36   \n",
       "1271    10          27              13        1         28   \n",
       "1272    10          23              17        1         16   \n",
       "1273    10          13              19        0         20   \n",
       "\n",
       "      team_avg_points_for  team_avg_points_against  opponent_wins  \\\n",
       "0               22.222222                28.000000             32   \n",
       "1               13.444444                29.777778             28   \n",
       "2               32.222222                29.555556             12   \n",
       "3               22.555556                25.777778              8   \n",
       "4               24.000000                27.111111             24   \n",
       "...                   ...                      ...            ...   \n",
       "1269            24.000000                18.666667             24   \n",
       "1270            30.111111                19.000000              8   \n",
       "1271            30.111111                23.666667             16   \n",
       "1272            21.000000                23.444444             24   \n",
       "1273            19.100000                20.900000             16   \n",
       "\n",
       "      opponent_avg_points_for  opponent_avg_points_against  ...  \\\n",
       "0                   31.777778                    20.333333  ...   \n",
       "1                   27.200000                    26.500000  ...   \n",
       "2                   27.000000                    27.888889  ...   \n",
       "3                   20.000000                    24.222222  ...   \n",
       "4                   27.111111                    18.333333  ...   \n",
       "...                       ...                          ...  ...   \n",
       "1269                32.222222                    29.555556  ...   \n",
       "1270                22.666667                    27.777778  ...   \n",
       "1271                23.800000                    23.400000  ...   \n",
       "1272                27.111111                    18.333333  ...   \n",
       "1273                26.222222                    27.444444  ...   \n",
       "\n",
       "      team_New Orleans Saints  team_New York Giants  team_New York Jets  \\\n",
       "0                           0                     0                   0   \n",
       "1                           0                     0                   1   \n",
       "2                           0                     0                   0   \n",
       "3                           0                     0                   0   \n",
       "4                           0                     0                   0   \n",
       "...                       ...                   ...                 ...   \n",
       "1269                        0                     0                   0   \n",
       "1270                        0                     0                   0   \n",
       "1271                        1                     0                   0   \n",
       "1272                        0                     0                   0   \n",
       "1273                        0                     0                   0   \n",
       "\n",
       "      team_Philadelphia Eagles  team_Pittsburgh Steelers  \\\n",
       "0                            0                         0   \n",
       "1                            0                         0   \n",
       "2                            0                         0   \n",
       "3                            1                         0   \n",
       "4                            0                         0   \n",
       "...                        ...                       ...   \n",
       "1269                         0                         0   \n",
       "1270                         0                         1   \n",
       "1271                         0                         0   \n",
       "1272                         0                         0   \n",
       "1273                         0                         0   \n",
       "\n",
       "      team_San Francisco 49ers  team_Seattle Seahawks  \\\n",
       "0                            0                      0   \n",
       "1                            0                      0   \n",
       "2                            0                      1   \n",
       "3                            0                      0   \n",
       "4                            0                      0   \n",
       "...                        ...                    ...   \n",
       "1269                         0                      0   \n",
       "1270                         0                      0   \n",
       "1271                         0                      0   \n",
       "1272                         0                      0   \n",
       "1273                         0                      0   \n",
       "\n",
       "      team_Tampa Bay Buccaneers  team_Tennessee Titans  \\\n",
       "0                             0                      0   \n",
       "1                             0                      0   \n",
       "2                             0                      0   \n",
       "3                             0                      0   \n",
       "4                             0                      0   \n",
       "...                         ...                    ...   \n",
       "1269                          0                      0   \n",
       "1270                          0                      0   \n",
       "1271                          0                      0   \n",
       "1272                          0                      0   \n",
       "1273                          0                      0   \n",
       "\n",
       "      team_Washington Football Team  \n",
       "0                                 0  \n",
       "1                                 0  \n",
       "2                                 0  \n",
       "3                                 0  \n",
       "4                                 0  \n",
       "...                             ...  \n",
       "1269                              0  \n",
       "1270                              0  \n",
       "1271                              0  \n",
       "1272                              0  \n",
       "1273                              0  \n",
       "\n",
       "[1176 rows x 74 columns]"
      ],
      "text/html": "<div>\n<style scoped>\n    .dataframe tbody tr th:only-of-type {\n        vertical-align: middle;\n    }\n\n    .dataframe tbody tr th {\n        vertical-align: top;\n    }\n\n    .dataframe thead th {\n        text-align: right;\n    }\n</style>\n<table border=\"1\" class=\"dataframe\">\n  <thead>\n    <tr style=\"text-align: right;\">\n      <th></th>\n      <th>week</th>\n      <th>team_score</th>\n      <th>opponent_score</th>\n      <th>outcome</th>\n      <th>team_wins</th>\n      <th>team_avg_points_for</th>\n      <th>team_avg_points_against</th>\n      <th>opponent_wins</th>\n      <th>opponent_avg_points_for</th>\n      <th>opponent_avg_points_against</th>\n      <th>...</th>\n      <th>team_New Orleans Saints</th>\n      <th>team_New York Giants</th>\n      <th>team_New York Jets</th>\n      <th>team_Philadelphia Eagles</th>\n      <th>team_Pittsburgh Steelers</th>\n      <th>team_San Francisco 49ers</th>\n      <th>team_Seattle Seahawks</th>\n      <th>team_Tampa Bay Buccaneers</th>\n      <th>team_Tennessee Titans</th>\n      <th>team_Washington Football Team</th>\n    </tr>\n  </thead>\n  <tbody>\n    <tr>\n      <th>0</th>\n      <td>1</td>\n      <td>20</td>\n      <td>34</td>\n      <td>0</td>\n      <td>8</td>\n      <td>22.222222</td>\n      <td>28.000000</td>\n      <td>32</td>\n      <td>31.777778</td>\n      <td>20.333333</td>\n      <td>...</td>\n      <td>0</td>\n      <td>0</td>\n      <td>0</td>\n      <td>0</td>\n      <td>0</td>\n      <td>0</td>\n      <td>0</td>\n      <td>0</td>\n      <td>0</td>\n      <td>0</td>\n    </tr>\n    <tr>\n      <th>1</th>\n      <td>1</td>\n      <td>17</td>\n      <td>27</td>\n      <td>0</td>\n      <td>0</td>\n      <td>13.444444</td>\n      <td>29.777778</td>\n      <td>28</td>\n      <td>27.200000</td>\n      <td>26.500000</td>\n      <td>...</td>\n      <td>0</td>\n      <td>0</td>\n      <td>1</td>\n      <td>0</td>\n      <td>0</td>\n      <td>0</td>\n      <td>0</td>\n      <td>0</td>\n      <td>0</td>\n      <td>0</td>\n    </tr>\n    <tr>\n      <th>2</th>\n      <td>1</td>\n      <td>38</td>\n      <td>25</td>\n      <td>1</td>\n      <td>24</td>\n      <td>32.222222</td>\n      <td>29.555556</td>\n      <td>12</td>\n      <td>27.000000</td>\n      <td>27.888889</td>\n      <td>...</td>\n      <td>0</td>\n      <td>0</td>\n      <td>0</td>\n      <td>0</td>\n      <td>0</td>\n      <td>0</td>\n      <td>1</td>\n      <td>0</td>\n      <td>0</td>\n      <td>0</td>\n    </tr>\n    <tr>\n      <th>3</th>\n      <td>1</td>\n      <td>17</td>\n      <td>27</td>\n      <td>0</td>\n      <td>12</td>\n      <td>22.555556</td>\n      <td>25.777778</td>\n      <td>8</td>\n      <td>20.000000</td>\n      <td>24.222222</td>\n      <td>...</td>\n      <td>0</td>\n      <td>0</td>\n      <td>0</td>\n      <td>1</td>\n      <td>0</td>\n      <td>0</td>\n      <td>0</td>\n      <td>0</td>\n      <td>0</td>\n      <td>0</td>\n    </tr>\n    <tr>\n      <th>4</th>\n      <td>1</td>\n      <td>6</td>\n      <td>38</td>\n      <td>0</td>\n      <td>24</td>\n      <td>24.000000</td>\n      <td>27.111111</td>\n      <td>24</td>\n      <td>27.111111</td>\n      <td>18.333333</td>\n      <td>...</td>\n      <td>0</td>\n      <td>0</td>\n      <td>0</td>\n      <td>0</td>\n      <td>0</td>\n      <td>0</td>\n      <td>0</td>\n      <td>0</td>\n      <td>0</td>\n      <td>0</td>\n    </tr>\n    <tr>\n      <th>...</th>\n      <td>...</td>\n      <td>...</td>\n      <td>...</td>\n      <td>...</td>\n      <td>...</td>\n      <td>...</td>\n      <td>...</td>\n      <td>...</td>\n      <td>...</td>\n      <td>...</td>\n      <td>...</td>\n      <td>...</td>\n      <td>...</td>\n      <td>...</td>\n      <td>...</td>\n      <td>...</td>\n      <td>...</td>\n      <td>...</td>\n      <td>...</td>\n      <td>...</td>\n      <td>...</td>\n    </tr>\n    <tr>\n      <th>1269</th>\n      <td>10</td>\n      <td>23</td>\n      <td>16</td>\n      <td>1</td>\n      <td>24</td>\n      <td>24.000000</td>\n      <td>18.666667</td>\n      <td>24</td>\n      <td>32.222222</td>\n      <td>29.555556</td>\n      <td>...</td>\n      <td>0</td>\n      <td>0</td>\n      <td>0</td>\n      <td>0</td>\n      <td>0</td>\n      <td>0</td>\n      <td>0</td>\n      <td>0</td>\n      <td>0</td>\n      <td>0</td>\n    </tr>\n    <tr>\n      <th>1270</th>\n      <td>10</td>\n      <td>36</td>\n      <td>10</td>\n      <td>1</td>\n      <td>36</td>\n      <td>30.111111</td>\n      <td>19.000000</td>\n      <td>8</td>\n      <td>22.666667</td>\n      <td>27.777778</td>\n      <td>...</td>\n      <td>0</td>\n      <td>0</td>\n      <td>0</td>\n      <td>0</td>\n      <td>1</td>\n      <td>0</td>\n      <td>0</td>\n      <td>0</td>\n      <td>0</td>\n      <td>0</td>\n    </tr>\n    <tr>\n      <th>1271</th>\n      <td>10</td>\n      <td>27</td>\n      <td>13</td>\n      <td>1</td>\n      <td>28</td>\n      <td>30.111111</td>\n      <td>23.666667</td>\n      <td>16</td>\n      <td>23.800000</td>\n      <td>23.400000</td>\n      <td>...</td>\n      <td>1</td>\n      <td>0</td>\n      <td>0</td>\n      <td>0</td>\n      <td>0</td>\n      <td>0</td>\n      <td>0</td>\n      <td>0</td>\n      <td>0</td>\n      <td>0</td>\n    </tr>\n    <tr>\n      <th>1272</th>\n      <td>10</td>\n      <td>23</td>\n      <td>17</td>\n      <td>1</td>\n      <td>16</td>\n      <td>21.000000</td>\n      <td>23.444444</td>\n      <td>24</td>\n      <td>27.111111</td>\n      <td>18.333333</td>\n      <td>...</td>\n      <td>0</td>\n      <td>0</td>\n      <td>0</td>\n      <td>0</td>\n      <td>0</td>\n      <td>0</td>\n      <td>0</td>\n      <td>0</td>\n      <td>0</td>\n      <td>0</td>\n    </tr>\n    <tr>\n      <th>1273</th>\n      <td>10</td>\n      <td>13</td>\n      <td>19</td>\n      <td>0</td>\n      <td>20</td>\n      <td>19.100000</td>\n      <td>20.900000</td>\n      <td>16</td>\n      <td>26.222222</td>\n      <td>27.444444</td>\n      <td>...</td>\n      <td>0</td>\n      <td>0</td>\n      <td>0</td>\n      <td>0</td>\n      <td>0</td>\n      <td>0</td>\n      <td>0</td>\n      <td>0</td>\n      <td>0</td>\n      <td>0</td>\n    </tr>\n  </tbody>\n</table>\n<p>1176 rows × 74 columns</p>\n</div>"
     },
     "metadata": {},
     "execution_count": 147
    }
   ],
   "source": [
    "# Create some features for the other teams\n",
    "target_week = 11\n",
    "scores_before_target_week = nfl_scores[nfl_scores['week'] < target_week]\n",
    "\n",
    "# Calculate some features from each teams statistics to this point in the season\n",
    "agg_dict = {\n",
    "    'outcome' : 'sum',\n",
    "    'team_score' : 'mean',\n",
    "    'opponent_score' : 'mean'\n",
    "}\n",
    "\n",
    "agg_features = scores_before_target_week.groupby('team').agg(agg_dict).reset_index()\n",
    "\n",
    "team_features = agg_features.rename(columns={\n",
    "    'outcome' : 'team_wins',\n",
    "    'team_score' : 'team_avg_points_for',\n",
    "    'opponent_score' : 'team_avg_points_against'\n",
    "})\n",
    "\n",
    "opponent_features = agg_features.rename(columns={\n",
    "    'team' : 'opponent',\n",
    "    'outcome' : 'opponent_wins',\n",
    "    'team_score' : 'opponent_avg_points_for',\n",
    "    'opponent_score' : 'opponent_avg_points_against'\n",
    "})\n",
    "\n",
    "scores_including_target_week = nfl_scores[nfl_scores['week'] <= target_week]\n",
    "\n",
    "scores_including_target_week = scores_including_target_week.merge(team_features, how='left', on='team')\n",
    "scores_including_target_week = scores_including_target_week.merge(opponent_features, how='left', on='opponent')\n",
    "scores_including_target_week = pd.get_dummies(scores_including_target_week, columns = ['opponent', 'team'])\n",
    "\n",
    "training_data = scores_including_target_week[scores_including_target_week['week'] < target_week]\n",
    "testing_data = scores_including_target_week[scores_including_target_week['week'] == target_week]\n",
    "\n"
   ]
  },
  {
   "cell_type": "code",
   "execution_count": 148,
   "metadata": {},
   "outputs": [
    {
     "output_type": "execute_result",
     "data": {
      "text/plain": [
       "array([[24, 32],\n",
       "       [32, 24]], dtype=int64)"
      ]
     },
     "metadata": {},
     "execution_count": 148
    }
   ],
   "source": [
    "train_x = training_data.drop(columns=['outcome', 'team_score', 'opponent_score'], axis = 1)\n",
    "train_y = training_data['outcome']\n",
    "test_x = testing_data.drop(columns=['outcome', 'team_score', 'opponent_score'], axis = 1)\n",
    "test_y = testing_data['outcome']\n",
    "\n",
    "scaler = StandardScaler()\n",
    "scaled_train_x = scaler.fit_transform(train_x)\n",
    "lm = LogisticRegression(random_state=0).fit(scaled_train_x, train_y)\n",
    "\n",
    "scaled_test_x = scaler.fit_transform(test_x)\n",
    "confusion_matrix(test_y, lm.predict(scaled_test_x))\n",
    "\n",
    "# # print(predicted_y)\n",
    "# # print(test_y[:])\n",
    "# sum(test_y[:] - predicted_y)\n"
   ]
  }
 ]
}